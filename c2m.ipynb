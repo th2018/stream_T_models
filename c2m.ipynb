{
 "cells": [
  {
   "cell_type": "markdown",
   "id": "f478ad17",
   "metadata": {},
   "source": [
    "https://www.boisestate.edu/drycreek/dry-creek-data/con2main/"
   ]
  },
  {
   "cell_type": "code",
   "execution_count": 64,
   "id": "c966d673",
   "metadata": {},
   "outputs": [],
   "source": [
    "# Import pandas\n",
    "import pandas as pd"
   ]
  },
  {
   "cell_type": "code",
   "execution_count": 65,
   "id": "21a94eed",
   "metadata": {},
   "outputs": [
    {
     "name": "stdout",
     "output_type": "stream",
     "text": [
      "          Discharge    StreamTemp      StreamEC\n",
      "count  87696.000000  87696.000000  87696.000000\n",
      "mean   -1177.201304  -1079.754512  -3070.468035\n",
      "std     2752.290926   2537.059621   3473.175701\n",
      "min    -6999.000000  -6999.000000  -6999.000000\n",
      "25%        9.160000      0.800000  -6999.000000\n",
      "50%       42.840000      5.400000      0.037000\n",
      "75%       94.090000     11.300000      0.109000\n",
      "max     3818.980000     24.700000      0.335000\n"
     ]
    }
   ],
   "source": [
    "yr=2004\n",
    "c2m_2004= pd.read_csv(\"https://icewater.boisestate.edu/boisefront-products/historical/dcew_c2m/StreamHourlyData/C2M_StreamHrlySummary_\"+str(yr)+\".csv\", skiprows=17, header=1)\n",
    "\n",
    "for yr in range(2004,2012+1):\n",
    "    c2m= pd.read_csv(\"https://icewater.boisestate.edu/boisefront-products/historical/dcew_c2m/StreamHourlyData/C2M_StreamHrlySummary_\"+str(yr)+\".csv\", skiprows=17, header=1)\n",
    "    c2m_2004= c2m_2004.append(c2m)\n",
    "    \n",
    "#c2m_2004<-c2m_2004[[\"DateTime\",\"Discharge-L/s\",\"StreamTemp-C\",\"StreamEC-mS/cm\"]]   \n",
    "c2m_2004=c2m_2004.iloc[:,0:4]\n",
    "#c2m_2004.columns\n",
    "c2m_2004.rename(columns={\"DateTime\":\"DateTime\", 'Discharge-L/s':'Discharge', 'StreamTemp-C':  \"StreamTemp\", 'StreamEC-mS/cm':\"StreamEC\" } , inplace = True)\n",
    "#index={DateTime: \"DateTime\", 1: \"Discharge\", 2: \"StreamTemp\", 3:\"StreamEC\"})\n",
    "#c2m_2004\n",
    "print(c2m_2004.describe())\n",
    "c2m_2004.to_csv('c2m_2004.csv')"
   ]
  },
  {
   "cell_type": "code",
   "execution_count": 66,
   "id": "464a6442",
   "metadata": {},
   "outputs": [
    {
     "name": "stdout",
     "output_type": "stream",
     "text": [
      "          Discharge     StreamT-C      StreamEC\n",
      "count  26280.000000  26280.000000  26280.000000\n",
      "mean      51.660783      7.727664  -2300.718844\n",
      "std      272.592006      5.802383   3287.890932\n",
      "min    -6999.000000     -0.300000  -6999.000000\n",
      "25%       15.335750      2.100000  -6999.000000\n",
      "50%       41.271000      7.100000      0.070000\n",
      "75%       68.522000     12.400000      0.091000\n",
      "max     1328.527000     20.700000      0.218000\n"
     ]
    }
   ],
   "source": [
    "yr=2013\n",
    "c2m_2013= pd.read_csv(\"https://icewater.boisestate.edu/boisefront-products/historical/dcew_c2m/StreamHourlyData/C2M_StreamHrlySummary_\"+str(yr)+\".csv\", skiprows=13, header=1)\n",
    "\n",
    "for yr in range(2013,2014+1):\n",
    "    c2m= pd.read_csv(\"https://icewater.boisestate.edu/boisefront-products/historical/dcew_c2m/StreamHourlyData/C2M_StreamHrlySummary_\"+str(yr)+\".csv\", skiprows=13, header=1)\n",
    "    c2m_2013= c2m_2013.append(c2m)\n",
    "    \n",
    "c2m_2013.rename(columns={\"DateTime\":\"DateTime\", 'Discharge-L/s':'Discharge', 'StreamTemp-C':  \"StreamTemp\", 'StreamEC-mS/cm':\"StreamEC\" } , inplace = True)\n",
    "print(c2m_2013.describe())\n",
    "c2m_2013.to_csv('c2m_2013.csv')"
   ]
  },
  {
   "cell_type": "code",
   "execution_count": 82,
   "id": "fd2f8932",
   "metadata": {},
   "outputs": [
    {
     "name": "stdout",
     "output_type": "stream",
     "text": [
      "          Discharge     StreamT-C\n",
      "count  59320.000000  59320.000000\n",
      "mean    -963.949764  -2736.485659\n",
      "std     2577.421185   3419.681950\n",
      "min    -6999.000000  -6999.000000\n",
      "25%        5.257500  -6999.000000\n",
      "50%       48.950000      1.154000\n",
      "75%      104.340000      7.305250\n",
      "max     1167.130000     43.530000\n"
     ]
    }
   ],
   "source": [
    "yr=2015\n",
    "c2m_2015= pd.read_csv(\"https://icewater.boisestate.edu/boisefront-products/historical/dcew_c2m/StreamHourlyData/C2M_StreamHrlySummary_\"+str(yr)+\".csv\", skiprows=17, header=1)\n",
    "c2m_2015=c2m_2015.iloc[:,0:4]\n",
    "\n",
    "for yr in range(2015,2020+1):\n",
    "    c2m= pd.read_csv(\"https://icewater.boisestate.edu/boisefront-products/historical/dcew_c2m/StreamHourlyData/C2M_StreamHrlySummary_\"+str(yr)+\".csv\", skiprows=17, header=1)\n",
    "    c2m=c2m.iloc[:,0:4]\n",
    "    c2m_2015= c2m_2015.append(c2m)\n",
    "    \n",
    "c2m_2015.rename(columns={\"DateTime\":\"DateTime\", 'Discharge-L/s':'Discharge', 'StreamTemp-C':  \"StreamTemp\", 'StreamEC-mS/cm':\"StreamEC\" } , inplace = True)\n",
    "print(c2m_2015.describe())\n",
    "c2m_2015.to_csv('c2m_2015.csv')"
   ]
  },
  {
   "cell_type": "code",
   "execution_count": 84,
   "id": "1e40db72",
   "metadata": {},
   "outputs": [],
   "source": [
    "c2m_2004_2014=c2m_2004.append(c2m_2013)\n",
    "c2m_2004_2020=c2m_2004_2014.append(c2m_2015)\n",
    "c2m_2004_2020.to_csv('c2m_2004_2020.csv')"
   ]
  },
  {
   "cell_type": "code",
   "execution_count": null,
   "id": "6e03c8ff",
   "metadata": {},
   "outputs": [],
   "source": []
  }
 ],
 "metadata": {
  "kernelspec": {
   "display_name": "Python 3 (ipykernel)",
   "language": "python",
   "name": "python3"
  },
  "language_info": {
   "codemirror_mode": {
    "name": "ipython",
    "version": 3
   },
   "file_extension": ".py",
   "mimetype": "text/x-python",
   "name": "python",
   "nbconvert_exporter": "python",
   "pygments_lexer": "ipython3",
   "version": "3.8.12"
  }
 },
 "nbformat": 4,
 "nbformat_minor": 5
}
